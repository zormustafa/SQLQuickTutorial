{
 "cells": [
  {
   "cell_type": "code",
   "execution_count": 1,
   "metadata": {},
   "outputs": [],
   "source": [
    "--CREATE DATABASE SchoolData;      --Create new database"
   ]
  },
  {
   "cell_type": "code",
   "execution_count": 35,
   "metadata": {},
   "outputs": [],
   "source": [
    "%defaultDatasource jdbc:postgresql://localhost/SchoolData?user=username&password=123456"
   ]
  },
  {
   "cell_type": "code",
   "execution_count": 36,
   "metadata": {},
   "outputs": [],
   "source": [
    "CREATE TABLE student(                       --Create new table\n",
    "    id          int          NOT NULL,      --int variable, NOT NULL: cannot be empty\n",
    "    name        varchar(20),                --string up to 20 character  \n",
    "    gender      char(1)      DEFAULT 'M',   --fixed length string, default value can be specified\n",
    "    birth_date  date,\n",
    "    CONSTRAINT   id_pk  PRIMARY KEY(id)      --specify primary key using constraint\n",
    ");"
   ]
  },
  {
   "cell_type": "code",
   "execution_count": 37,
   "metadata": {},
   "outputs": [],
   "source": [
    "--DROP TABLE student;                --Delete existing table"
   ]
  },
  {
   "cell_type": "code",
   "execution_count": 38,
   "metadata": {},
   "outputs": [],
   "source": [
    "INSERT INTO student(id, name, gender, birth_date)    --insert single entry\n",
    "VALUES(100, 'George', 'M', '11.01.1990');\n",
    "\n",
    "INSERT INTO student                                  --if in same order with table and complete, no need to write column names\n",
    "VALUES(109, 'Gauss', 'M', '05.19.1992');\n",
    "\n",
    "\n",
    "INSERT INTO student(id, birth_date, name)            --columns can be in different order\n",
    "VALUES(101, '11.01.1990', 'Gerard');\n",
    "\n",
    "INSERT INTO student(id)                              --it is also allowed, since only id is NOT NULL\n",
    "VALUES(102);\n",
    "\n",
    "--INSERT INTO studemt(id, name) VALUES                 --results from SELECT can also be inserted\n",
    "--SELECT std_id,std_name FROM std_table;"
   ]
  },
  {
   "cell_type": "code",
   "execution_count": 39,
   "metadata": {},
   "outputs": [
    {
     "data": {
      "application/vnd.jupyter.widget-view+json": {
       "model_id": "eeb3d8c2-8b57-40b3-9c99-aff9e4f5bc5a",
       "version_major": 2,
       "version_minor": 0
      },
      "method": "display_data"
     },
     "metadata": {},
     "output_type": "display_data"
    }
   ],
   "source": [
    "SELECT * FROM student;"
   ]
  },
  {
   "cell_type": "code",
   "execution_count": 40,
   "metadata": {},
   "outputs": [],
   "source": [
    "INSERT INTO student(id, name, birth_date, gender) VALUES  --insert multiple entries\n",
    "(106,'Bruce','11.12.1991','M'),\n",
    "(107,'Tom','05.10.1990','M'),\n",
    "(103,'Brad','10.04.1992','M'),\n",
    "(104,'Marry','12.06.1990','F'),\n",
    "(105,'Angela','12.09.1991','F');"
   ]
  },
  {
   "cell_type": "code",
   "execution_count": 41,
   "metadata": {},
   "outputs": [
    {
     "data": {
      "application/vnd.jupyter.widget-view+json": {
       "model_id": "0e0a1308-33b4-4a02-8613-3cd79f2b71b8",
       "version_major": 2,
       "version_minor": 0
      },
      "method": "display_data"
     },
     "metadata": {},
     "output_type": "display_data"
    }
   ],
   "source": [
    "SELECT * FROM student;"
   ]
  },
  {
   "cell_type": "code",
   "execution_count": 42,
   "metadata": {},
   "outputs": [],
   "source": [
    "-- create another table to keep contact info of students\n",
    "CREATE TABLE contact(\n",
    "    id      int          NOT NULL,\n",
    "    email   varchar(25)  NULL,\n",
    "    phone   varchar(15)  NOT NULL,\n",
    "    adress  varchar(25)  NULL,\n",
    "    city    varchar(15)  NULL,\n",
    "    CONSTRAINT contacts_pk  PRIMARY KEY (id)\n",
    ");\n",
    "INSERT INTO contact(email, phone, adress, city, id) VALUES\n",
    "('em@y.com','33309876','Croner str. 120', 'London', 100),\n",
    "('m@y.com','55509876','Max str. 10', '', 103),\n",
    "('','1679877','','',102),\n",
    "('','1679877','','',106),\n",
    "('','1679877','','',104);\n",
    "\n",
    "-- create another table to keep contact info of parents\n",
    "CREATE TABLE parent(\n",
    "    prt_name    varchar(20)     NOT NULL,\n",
    "    affinity    varchar(15)     NOT NULL,\n",
    "    phone       varchar(15)     NOT NULL,\n",
    "    student     int             NOT NULL,\n",
    "    CONSTRAINT parent_fk FOREIGN KEY(student) REFERENCES student(id)\n",
    ");\n",
    "INSERT INTO parent(prt_name, affinity, phone, student) VALUES\n",
    "('Jane','Mother','12309876',100),\n",
    "('Jack','Father','1987677',102),\n",
    "('Helena','Mother','4569876',103),\n",
    "('Suzzy','Mother','12309876',105),\n",
    "('Nick','Father','12309876',106),\n",
    "('Sam','Uncle','12309876',101);"
   ]
  },
  {
   "cell_type": "code",
   "execution_count": 43,
   "metadata": {},
   "outputs": [
    {
     "data": {
      "application/vnd.jupyter.widget-view+json": {
       "model_id": "eeb209bd-e2b2-4382-87df-1dfb48ccb093",
       "version_major": 2,
       "version_minor": 0
      },
      "method": "display_data"
     },
     "metadata": {},
     "output_type": "display_data"
    }
   ],
   "source": [
    "SELECT * FROM contact;"
   ]
  },
  {
   "cell_type": "code",
   "execution_count": 44,
   "metadata": {},
   "outputs": [
    {
     "data": {
      "application/vnd.jupyter.widget-view+json": {
       "model_id": "eab226f4-8f3f-4dac-be03-28a8d135a85f",
       "version_major": 2,
       "version_minor": 0
      },
      "method": "display_data"
     },
     "metadata": {},
     "output_type": "display_data"
    }
   ],
   "source": [
    "SELECT * FROM parent;"
   ]
  },
  {
   "cell_type": "code",
   "execution_count": 45,
   "metadata": {},
   "outputs": [],
   "source": [
    "ALTER TABLE parent ADD occupation varchar(15);         --add new column to parent table"
   ]
  },
  {
   "cell_type": "code",
   "execution_count": 46,
   "metadata": {},
   "outputs": [
    {
     "data": {
      "application/vnd.jupyter.widget-view+json": {
       "model_id": "25d45173-4a3a-4904-b4a5-7629613b8432",
       "version_major": 2,
       "version_minor": 0
      },
      "method": "display_data"
     },
     "metadata": {},
     "output_type": "display_data"
    }
   ],
   "source": [
    "SELECT * FROM parent;"
   ]
  },
  {
   "cell_type": "code",
   "execution_count": 47,
   "metadata": {},
   "outputs": [],
   "source": [
    "ALTER TABLE parent ADD CONSTRAINT parent_pk PRIMARY KEY (prt_name);         --define primary key on table"
   ]
  },
  {
   "cell_type": "code",
   "execution_count": 48,
   "metadata": {},
   "outputs": [],
   "source": [
    "ALTER TABLE parent DROP CONSTRAINT parent_pk;       -- remove primary key on table"
   ]
  },
  {
   "cell_type": "code",
   "execution_count": 49,
   "metadata": {},
   "outputs": [
    {
     "data": {
      "application/vnd.jupyter.widget-view+json": {
       "model_id": "8fd3722f-4d52-405e-b4ab-3d47ae7f402a",
       "version_major": 2,
       "version_minor": 0
      },
      "method": "display_data"
     },
     "metadata": {},
     "output_type": "display_data"
    }
   ],
   "source": [
    "SELECT * FROM parent;"
   ]
  },
  {
   "cell_type": "code",
   "execution_count": 50,
   "metadata": {},
   "outputs": [],
   "source": [
    "ALTER TABLE parent DROP COLUMN occupation;    --remove column from table"
   ]
  },
  {
   "cell_type": "code",
   "execution_count": 51,
   "metadata": {},
   "outputs": [
    {
     "data": {
      "application/vnd.jupyter.widget-view+json": {
       "model_id": "6478538d-90f3-4ddb-96a8-0856f2ac6e47",
       "version_major": 2,
       "version_minor": 0
      },
      "method": "display_data"
     },
     "metadata": {},
     "output_type": "display_data"
    }
   ],
   "source": [
    "SELECT * FROM parent;"
   ]
  },
  {
   "cell_type": "code",
   "execution_count": 52,
   "metadata": {},
   "outputs": [],
   "source": [
    "--! Drop : delete object\n",
    "--! Alter: change object\n",
    "--DROP TABLE parent;      --deletes table"
   ]
  },
  {
   "cell_type": "code",
   "execution_count": 53,
   "metadata": {},
   "outputs": [
    {
     "data": {
      "application/vnd.jupyter.widget-view+json": {
       "model_id": "5bf7844f-3c2b-4768-b384-293c875e8204",
       "version_major": 2,
       "version_minor": 0
      },
      "method": "display_data"
     },
     "metadata": {},
     "output_type": "display_data"
    }
   ],
   "source": [
    "SELECT * FROM contact;"
   ]
  },
  {
   "cell_type": "code",
   "execution_count": 54,
   "metadata": {},
   "outputs": [],
   "source": [
    "UPDATE contact                                --update contact table\n",
    "SET phone = '5552355', adress = 'Broadway 20' \n",
    "WHERE id = 104;                               --if no WHERE, it will update all rows"
   ]
  },
  {
   "cell_type": "code",
   "execution_count": 55,
   "metadata": {},
   "outputs": [
    {
     "data": {
      "application/vnd.jupyter.widget-view+json": {
       "model_id": "f34b9c3c-60ce-4ad4-9a45-6ea744e9eda6",
       "version_major": 2,
       "version_minor": 0
      },
      "method": "display_data"
     },
     "metadata": {},
     "output_type": "display_data"
    }
   ],
   "source": [
    "SELECT * FROM contact;"
   ]
  },
  {
   "cell_type": "code",
   "execution_count": 56,
   "metadata": {},
   "outputs": [],
   "source": [
    "DELETE FROM contact            -- delete rows on table\n",
    "WHERE phone = '1679877';       --if no WHERE, all rows will be deleted"
   ]
  },
  {
   "cell_type": "code",
   "execution_count": 57,
   "metadata": {},
   "outputs": [
    {
     "data": {
      "application/vnd.jupyter.widget-view+json": {
       "model_id": "8c4596e8-caac-47b5-98dc-ea59b0af1ae0",
       "version_major": 2,
       "version_minor": 0
      },
      "method": "display_data"
     },
     "metadata": {},
     "output_type": "display_data"
    }
   ],
   "source": [
    "SELECT * FROM contact;"
   ]
  },
  {
   "cell_type": "code",
   "execution_count": 58,
   "metadata": {},
   "outputs": [],
   "source": [
    "--TRUNCATE TABLE contact;      --delete all rows and resets Autoincrement\n",
    "                               --similar with DELETE TABLE contacts(but Autoincrement will not be reseted);"
   ]
  },
  {
   "cell_type": "code",
   "execution_count": 59,
   "metadata": {},
   "outputs": [
    {
     "data": {
      "application/vnd.jupyter.widget-view+json": {
       "model_id": "9c7c7396-844f-40c4-b2a1-1f2bb6f88452",
       "version_major": 2,
       "version_minor": 0
      },
      "method": "display_data"
     },
     "metadata": {},
     "output_type": "display_data"
    }
   ],
   "source": [
    "SELECT * FROM contact;"
   ]
  },
  {
   "cell_type": "code",
   "execution_count": 60,
   "metadata": {},
   "outputs": [
    {
     "data": {
      "application/vnd.jupyter.widget-view+json": {
       "model_id": "b940e645-06f6-4a10-b524-0f1c28056937",
       "version_major": 2,
       "version_minor": 0
      },
      "method": "display_data"
     },
     "metadata": {},
     "output_type": "display_data"
    }
   ],
   "source": [
    "--lets create a full table using three of the tables\n",
    "SELECT s.*, c.email, c.adress, p.prt_name,p.affinity,p.phone AS parent_phone \n",
    "FROM student s\n",
    "LEFT OUTER JOIN contact c\n",
    "ON s.id=c.id\n",
    "LEFT OUTER JOIN parent p \n",
    "ON s.id=p.student;"
   ]
  },
  {
   "cell_type": "code",
   "execution_count": 61,
   "metadata": {},
   "outputs": [],
   "source": [
    "CREATE VIEW full_info AS(            --create a view. Views behave like virtual tables\n",
    "    SELECT s.*, c.email, c.adress, p.prt_name,p.affinity,p.phone AS parent_phone \n",
    "    FROM student s\n",
    "    LEFT OUTER JOIN contact c\n",
    "    ON s.id=c.id\n",
    "    LEFT OUTER JOIN parent p \n",
    "    ON s.id=p.student\n",
    ");\n",
    "--DROP VIEW full_info;            -- removes view"
   ]
  },
  {
   "cell_type": "code",
   "execution_count": 62,
   "metadata": {},
   "outputs": [
    {
     "data": {
      "application/vnd.jupyter.widget-view+json": {
       "model_id": "b1c06500-55bf-431b-8ac0-6a2594831dba",
       "version_major": 2,
       "version_minor": 0
      },
      "method": "display_data"
     },
     "metadata": {},
     "output_type": "display_data"
    }
   ],
   "source": [
    "SELECT * FROM full_info;"
   ]
  },
  {
   "cell_type": "code",
   "execution_count": 63,
   "metadata": {},
   "outputs": [
    {
     "data": {
      "application/vnd.jupyter.widget-view+json": {
       "model_id": "301d5a9f-b2d1-472a-bf8b-1e11c66d5521",
       "version_major": 2,
       "version_minor": 0
      },
      "method": "display_data"
     },
     "metadata": {},
     "output_type": "display_data"
    }
   ],
   "source": [
    "SELECT * FROM full_info\n",
    "WHERE prt_name IS NOT NULL\n",
    "ORDER BY name;"
   ]
  },
  {
   "cell_type": "code",
   "execution_count": 64,
   "metadata": {},
   "outputs": [
    {
     "ename": "org.postgresql.util.PSQLException",
     "evalue": " ERROR",
     "output_type": "error",
     "text": "org.postgresql.util.PSQLException: ERROR: cannot update view \"full_info\"\n  Detail: Views that do not select from a single table or view are not automatically updatable.\n  Hint: To enable updating the view, provide an INSTEAD OF UPDATE trigger or an unconditional ON UPDATE DO INSTEAD rule.",
     "traceback": [
      "\u001b[1;31morg.postgresql.util.PSQLException: ERROR: cannot update view \"full_info\"\u001b[0;0m",
      "\u001b[1;31m  Detail: Views that do not select from a single table or view are not automatically updatable.\u001b[0;0m",
      "\u001b[1;31m  Hint: To enable updating the view, provide an INSTEAD OF UPDATE trigger or an unconditional ON UPDATE DO INSTEAD rule.\u001b[0;0m"
     ]
    }
   ],
   "source": [
    "UPDATE full_info                --update and insert can also be conducted on view if view is created only on single table\n",
    "SET name = 'Mathias' \n",
    "WHERE id = 102;   "
   ]
  },
  {
   "cell_type": "code",
   "execution_count": null,
   "metadata": {},
   "outputs": [],
   "source": []
  }
 ],
 "metadata": {
  "kernelspec": {
   "display_name": "SQL",
   "language": "SQL",
   "name": "sql"
  },
  "language_info": {
   "codemirror_mode": "sql",
   "file_extension": ".sql",
   "mimetype": "",
   "name": "SQL",
   "nbconverter_exporter": "",
   "version": ""
  }
 },
 "nbformat": 4,
 "nbformat_minor": 2
}
