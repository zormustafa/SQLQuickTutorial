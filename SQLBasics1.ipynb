{
 "cells": [
  {
   "cell_type": "markdown",
   "metadata": {},
   "source": [
    "SQL Tutorial"
   ]
  },
  {
   "cell_type": "raw",
   "metadata": {},
   "source": [
    "This notebook is prepared to summarize basic SQL commands. \n",
    "SQL kernel created by BeakerX and PostgreSQL database are used in this notebook. "
   ]
  },
  {
   "cell_type": "markdown",
   "metadata": {},
   "source": [
    "Connect database:\n",
    "Database is on local machine and called Deneme. You need to specify your own user name and password."
   ]
  },
  {
   "cell_type": "code",
   "execution_count": 1,
   "metadata": {},
   "outputs": [],
   "source": [
    "%defaultDatasource jdbc:postgresql://localhost/Deneme?user=username&password=123456"
   ]
  },
  {
   "cell_type": "code",
   "execution_count": 110,
   "metadata": {},
   "outputs": [],
   "source": [
    "-- drop table salary2017;"
   ]
  },
  {
   "cell_type": "code",
   "execution_count": null,
   "metadata": {},
   "outputs": [],
   "source": [
    "-- create a table called salary2017 to store data\n",
    "-- just run the code to execute, we will cover details later\n",
    "CREATE TABLE salary2017(\n",
    "    name varchar(40),\n",
    "    gender char(1),\n",
    "    annualSalary float,\n",
    "    grossPayReceived2017 float,\n",
    "    overtimePay2017 float,\n",
    "    depCode char(4),\n",
    "    divison varchar(100),\n",
    "    empPositionTitle varchar(100),\n",
    "    positionUnderFilled varchar(100),\n",
    "    dateFirstHired date\n",
    ");\n",
    "-- dataset from https://data.montgomerycountymd.gov/Human-Resources/Employee-Salaries-2017\n",
    "-- some modifications are performed on file in order to copy into our table\n",
    "COPY salary2017 FROM 'C:\\Users\\zormu\\Desktop\\sql tutorial\\2017Salary.csv' DELIMITERS ',' CSV HEADER;"
   ]
  },
  {
   "cell_type": "code",
   "execution_count": null,
   "metadata": {},
   "outputs": [],
   "source": [
    "-- create a table called salary2017 to store data\n",
    "-- just run the code to execute, we will cover details later\n",
    "CREATE TABLE salary2018(\n",
    "    name varchar(40),\n",
    "    gender char(1),\n",
    "    annualSalary float,\n",
    "    grossPayReceived2017 float,\n",
    "    overtimePay2017 float,\n",
    "    depCode char(4),\n",
    "    divison varchar(100),\n",
    "    empPositionTitle varchar(100),\n",
    "    positionUnderFilled varchar(100),\n",
    "    dateFirstHired date\n",
    ");\n",
    "-- dataset from https://data.montgomerycountymd.gov/Human-Resources/Employee-Salaries-2018/kdqy-4wzv\n",
    "-- some modifications are performed on file in order to copy into our table\n",
    "COPY salary2018 FROM 'C:\\Users\\zormu\\Desktop\\sql tutorial\\2018Salary.csv' DELIMITERS ',' CSV HEADER;"
   ]
  },
  {
   "cell_type": "code",
   "execution_count": null,
   "metadata": {},
   "outputs": [],
   "source": [
    "-- Create Look-up table for department code and corresponding names\n",
    "/*\n",
    "CREATE TABLE depnames(\n",
    "    code char(3),\n",
    "    name varchar(100)\n",
    ");\n",
    "COPY depnames FROM 'C:\\Users\\zormu\\Desktop\\sql tutorial\\depNames.csv' DELIMITERS ',' CSV HEADER;\n",
    "CREATE TABLE dep_code_names\n",
    "  AS (SELECT DISTINCT code,name FROM depnames);\n",
    "*/"
   ]
  },
  {
   "cell_type": "markdown",
   "metadata": {},
   "source": [
    "BASIC QUERIES"
   ]
  },
  {
   "cell_type": "code",
   "execution_count": 2,
   "metadata": {},
   "outputs": [
    {
     "data": {
      "application/vnd.jupyter.widget-view+json": {
       "model_id": "bff58063-6929-4948-bcf5-483a960cf42f",
       "version_major": 2,
       "version_minor": 0
      },
      "method": "display_data"
     },
     "metadata": {},
     "output_type": "display_data"
    }
   ],
   "source": [
    "SELECT * FROM salary2017;               --Select all data from table"
   ]
  },
  {
   "cell_type": "code",
   "execution_count": 3,
   "metadata": {},
   "outputs": [
    {
     "data": {
      "application/vnd.jupyter.widget-view+json": {
       "model_id": "31d177e5-9992-4ce1-bed4-81d010ce26df",
       "version_major": 2,
       "version_minor": 0
      },
      "method": "display_data"
     },
     "metadata": {},
     "output_type": "display_data"
    }
   ],
   "source": [
    "SELECT * FROM salary2017\n",
    "AS A LIMIT 5;                      -- to keep notebook shorter, display the outcomes up to 5 entries"
   ]
  },
  {
   "cell_type": "code",
   "execution_count": 4,
   "metadata": {},
   "outputs": [
    {
     "data": {
      "application/vnd.jupyter.widget-view+json": {
       "model_id": "fd087d1b-be93-48c9-9961-a6cb4cdcdc79",
       "version_major": 2,
       "version_minor": 0
      },
      "method": "display_data"
     },
     "metadata": {},
     "output_type": "display_data"
    }
   ],
   "source": [
    "SELECT name,depcode,annualsalary        --Select some columns from table\n",
    "FROM salary2017\n",
    "AS A LIMIT 5;    "
   ]
  },
  {
   "cell_type": "code",
   "execution_count": 5,
   "metadata": {},
   "outputs": [
    {
     "data": {
      "application/vnd.jupyter.widget-view+json": {
       "model_id": "5f2664d4-b27a-40b4-83f6-719154cfe2ea",
       "version_major": 2,
       "version_minor": 0
      },
      "method": "display_data"
     },
     "metadata": {},
     "output_type": "display_data"
    }
   ],
   "source": [
    "SELECT * FROM                                      --you may select all data from a table created by another SELECT statement \n",
    "(SELECT name,depcode,annualsalary FROM salary2017) --this part creates a table as above\n",
    "AS A LIMIT 5;"
   ]
  },
  {
   "cell_type": "code",
   "execution_count": 6,
   "metadata": {},
   "outputs": [
    {
     "data": {
      "application/vnd.jupyter.widget-view+json": {
       "model_id": "1b60647b-5d45-4bea-9766-a01c48136f36",
       "version_major": 2,
       "version_minor": 0
      },
      "method": "display_data"
     },
     "metadata": {},
     "output_type": "display_data"
    }
   ],
   "source": [
    "SELECT name,depcode,annualsalary        --WHERE filters data\n",
    "FROM salary2017                         --Operators: =  <  >  <=  >=  <>\n",
    "WHERE depcode = 'POL';"
   ]
  },
  {
   "cell_type": "code",
   "execution_count": 7,
   "metadata": {},
   "outputs": [
    {
     "data": {
      "application/vnd.jupyter.widget-view+json": {
       "model_id": "ded4451c-6e73-4250-90b0-24b83c53a214",
       "version_major": 2,
       "version_minor": 0
      },
      "method": "display_data"
     },
     "metadata": {},
     "output_type": "display_data"
    }
   ],
   "source": [
    "SELECT name,depcode,annualsalary                  --multiple conditions\n",
    "FROM salary2017                                   --Operators: AND OR NOT\n",
    "WHERE depcode = 'POL' AND annualsalary >= 50000;"
   ]
  },
  {
   "cell_type": "code",
   "execution_count": 8,
   "metadata": {},
   "outputs": [
    {
     "data": {
      "application/vnd.jupyter.widget-view+json": {
       "model_id": "56a8c97e-1ff2-4dfe-aa87-892b6c09edb9",
       "version_major": 2,
       "version_minor": 0
      },
      "method": "display_data"
     },
     "metadata": {},
     "output_type": "display_data"
    }
   ],
   "source": [
    "SELECT name,gender,datefirsthired        -- names starting with Ber\n",
    "FROM salary2017                          -- % stands for multiple any characters\n",
    "WHERE name LIKE 'Ber%';                  -- _ stands for single any character"
   ]
  },
  {
   "cell_type": "code",
   "execution_count": 9,
   "metadata": {},
   "outputs": [
    {
     "data": {
      "application/vnd.jupyter.widget-view+json": {
       "model_id": "8ae289e4-01a9-4f2d-a3d8-0b1c8a4e6619",
       "version_major": 2,
       "version_minor": 0
      },
      "method": "display_data"
     },
     "metadata": {},
     "output_type": "display_data"
    }
   ],
   "source": [
    "SELECT name,gender,datefirsthired         -- BETWEEN is for numerical values\n",
    "FROM salary2017                          \n",
    "WHERE annualsalary BETWEEN 50000 AND 70000;                  "
   ]
  },
  {
   "cell_type": "code",
   "execution_count": 10,
   "metadata": {},
   "outputs": [
    {
     "data": {
      "application/vnd.jupyter.widget-view+json": {
       "model_id": "0e10e5aa-e58f-427c-acd4-2354ee6b8d2e",
       "version_major": 2,
       "version_minor": 0
      },
      "method": "display_data"
     },
     "metadata": {},
     "output_type": "display_data"
    }
   ],
   "source": [
    "SELECT name,gender,annualsalary           -- IS NULL selects empty cells\n",
    "FROM salary2017                           -- IS NOT NULL selects non-emoty cells\n",
    "WHERE positionunderfilled IS NOT NULL;  "
   ]
  },
  {
   "cell_type": "code",
   "execution_count": 11,
   "metadata": {},
   "outputs": [
    {
     "data": {
      "application/vnd.jupyter.widget-view+json": {
       "model_id": "36f38a24-4269-4960-8db6-972c9858bf86",
       "version_major": 2,
       "version_minor": 0
      },
      "method": "display_data"
     },
     "metadata": {},
     "output_type": "display_data"
    }
   ],
   "source": [
    "SELECT DISTINCT depcode FROM salary2017;      -- detects distinct values fom given column"
   ]
  },
  {
   "cell_type": "code",
   "execution_count": 12,
   "metadata": {},
   "outputs": [
    {
     "data": {
      "application/vnd.jupyter.widget-view+json": {
       "model_id": "23db968c-1a64-4209-bf94-3df1e28f7a9c",
       "version_major": 2,
       "version_minor": 0
      },
      "method": "display_data"
     },
     "metadata": {},
     "output_type": "display_data"
    }
   ],
   "source": [
    "SELECT name,annualsalary,depcode        \n",
    "FROM salary2017                          \n",
    "WHERE depcode IN ('POL','HHS','COR');    -- equivalent to WHERE depcode='POL' OR depcode='HHS' OR depcode='COR';"
   ]
  },
  {
   "cell_type": "code",
   "execution_count": 13,
   "metadata": {},
   "outputs": [
    {
     "data": {
      "application/vnd.jupyter.widget-view+json": {
       "model_id": "ae9ec1ee-68be-4a2e-86f1-d4f2d9251302",
       "version_major": 2,
       "version_minor": 0
      },
      "method": "display_data"
     },
     "metadata": {},
     "output_type": "display_data"
    }
   ],
   "source": [
    "SELECT DISTINCT(depcode) FROM salary2017 -- use this resul as a list for WHERE IN in the following query\n",
    "WHERE annualsalary > 220000;"
   ]
  },
  {
   "cell_type": "code",
   "execution_count": 14,
   "metadata": {},
   "outputs": [
    {
     "data": {
      "application/vnd.jupyter.widget-view+json": {
       "model_id": "12a5faf2-2c32-416e-9b1b-0a0de0decba7",
       "version_major": 2,
       "version_minor": 0
      },
      "method": "display_data"
     },
     "metadata": {},
     "output_type": "display_data"
    }
   ],
   "source": [
    "SELECT name,annualsalary,depcode        \n",
    "FROM salary2017                          \n",
    "WHERE depcode IN(                  -- you may write another select in paranthesis to get values\n",
    "SELECT DISTINCT(depcode) FROM salary2017 \n",
    "WHERE annualsalary > 220000\n",
    ");  "
   ]
  },
  {
   "cell_type": "code",
   "execution_count": 15,
   "metadata": {},
   "outputs": [
    {
     "data": {
      "application/vnd.jupyter.widget-view+json": {
       "model_id": "622834b4-d0bc-4907-a8a4-1a358da20250",
       "version_major": 2,
       "version_minor": 0
      },
      "method": "display_data"
     },
     "metadata": {},
     "output_type": "display_data"
    }
   ],
   "source": [
    "SELECT name,gender,annualsalary,depcode     -- order by depcode descending and then annualsalary ascending\n",
    "FROM salary2017                          \n",
    "ORDER BY depcode DESC,annualsalary;  "
   ]
  },
  {
   "cell_type": "code",
   "execution_count": 16,
   "metadata": {},
   "outputs": [
    {
     "data": {
      "application/vnd.jupyter.widget-view+json": {
       "model_id": "6b617dcc-1906-47f9-8fd4-bf42fa37e965",
       "version_major": 2,
       "version_minor": 0
      },
      "method": "display_data"
     },
     "metadata": {},
     "output_type": "display_data"
    }
   ],
   "source": [
    "SELECT name,gender,annualsalary,depcode      -- first filter and then order\n",
    "FROM salary2017\n",
    "WHERE gender = 'F'\n",
    "ORDER BY annualsalary DESC;  "
   ]
  },
  {
   "cell_type": "markdown",
   "metadata": {},
   "source": [
    "Aggregate Functions: COUNT, SUM, AVG, MAX, MIN"
   ]
  },
  {
   "cell_type": "code",
   "execution_count": 17,
   "metadata": {},
   "outputs": [
    {
     "data": {
      "text/plain": [
       "9398"
      ]
     },
     "execution_count": 17,
     "metadata": {},
     "output_type": "execute_result"
    }
   ],
   "source": [
    "SELECT COUNT(*) FROM salary2017;              -- counts number of entries in table"
   ]
  },
  {
   "cell_type": "code",
   "execution_count": 18,
   "metadata": {},
   "outputs": [
    {
     "data": {
      "text/plain": [
       "9398"
      ]
     },
     "execution_count": 18,
     "metadata": {},
     "output_type": "execute_result"
    }
   ],
   "source": [
    "SELECT COUNT(*) AS num_of_entries             -- AS renames output column, but not observable here\n",
    "FROM salary2017;       "
   ]
  },
  {
   "cell_type": "code",
   "execution_count": 19,
   "metadata": {},
   "outputs": [
    {
     "data": {
      "text/plain": [
       "20"
      ]
     },
     "execution_count": 19,
     "metadata": {},
     "output_type": "execute_result"
    }
   ],
   "source": [
    "SELECT COUNT(*) AS num_of_highSalary           -- number of high salaries\n",
    "FROM salary2017\n",
    "WHERE annualsalary >= 200000;       "
   ]
  },
  {
   "cell_type": "code",
   "execution_count": 20,
   "metadata": {},
   "outputs": [
    {
     "data": {
      "application/vnd.jupyter.widget-view+json": {
       "model_id": "697c8711-dfb9-4ba0-99c1-8b7936b9f6e1",
       "version_major": 2,
       "version_minor": 0
      },
      "method": "display_data"
     },
     "metadata": {},
     "output_type": "display_data"
    }
   ],
   "source": [
    "SELECT \n",
    "MAX(annualsalary) AS max_salary,        \n",
    "MIN (annualsalary) AS min_salary,\n",
    "AVG (annualsalary) AS average_salary,\n",
    "SUM (annualsalary) AS total_salary,\n",
    "MIN(dateFirstHired) AS oldest_employee,\n",
    "MAX(dateFirstHired) AS newest_employee\n",
    "FROM salary2017;       "
   ]
  },
  {
   "cell_type": "code",
   "execution_count": 21,
   "metadata": {},
   "outputs": [
    {
     "data": {
      "application/vnd.jupyter.widget-view+json": {
       "model_id": "d04dc418-3ea0-4214-914e-3eca91d981bd",
       "version_major": 2,
       "version_minor": 0
      },
      "method": "display_data"
     },
     "metadata": {},
     "output_type": "display_data"
    }
   ],
   "source": [
    "SELECT divison FROM salary2017                  -- groups data based on disivion, \n",
    "GROUP BY divison;                               -- in this case it is identical to DISTINCT"
   ]
  },
  {
   "cell_type": "code",
   "execution_count": 22,
   "metadata": {},
   "outputs": [
    {
     "data": {
      "application/vnd.jupyter.widget-view+json": {
       "model_id": "3cdb5379-41c1-449f-a81b-7b49fc9c06f1",
       "version_major": 2,
       "version_minor": 0
      },
      "method": "display_data"
     },
     "metadata": {},
     "output_type": "display_data"
    }
   ],
   "source": [
    "SELECT divison, COUNT(*) AS num_of_employee         -- counts total number of employees in each divison \n",
    "FROM salary2017                                  -- and list in descending order \n",
    "GROUP BY divison\n",
    "ORDER BY num_of_employee DESC; "
   ]
  },
  {
   "cell_type": "code",
   "execution_count": 23,
   "metadata": {},
   "outputs": [
    {
     "data": {
      "application/vnd.jupyter.widget-view+json": {
       "model_id": "bd305202-ca2b-4387-aeff-cb74a45ae212",
       "version_major": 2,
       "version_minor": 0
      },
      "method": "display_data"
     },
     "metadata": {},
     "output_type": "display_data"
    }
   ],
   "source": [
    "SELECT divison, COUNT(*) AS num_of_employee         -- restriction on grouped data is conducted with HAVING \n",
    "FROM salary2017                                  \n",
    "GROUP BY divison\n",
    "HAVING divison LIKE 'M%'; "
   ]
  },
  {
   "cell_type": "code",
   "execution_count": 24,
   "metadata": {},
   "outputs": [
    {
     "data": {
      "application/vnd.jupyter.widget-view+json": {
       "model_id": "f6079aee-c452-4070-9360-0366bed5a58e",
       "version_major": 2,
       "version_minor": 0
      },
      "method": "display_data"
     },
     "metadata": {},
     "output_type": "display_data"
    }
   ],
   "source": [
    "SELECT divison, COUNT(*) AS num_of_employee        \n",
    "FROM salary2017                                  \n",
    "GROUP BY divison\n",
    "HAVING COUNT(*) >= 70\n",
    "ORDER BY num_of_employee DESC; "
   ]
  },
  {
   "cell_type": "code",
   "execution_count": 25,
   "metadata": {},
   "outputs": [
    {
     "data": {
      "application/vnd.jupyter.widget-view+json": {
       "model_id": "9954ee52-323f-4b47-912e-265cf6780f8f",
       "version_major": 2,
       "version_minor": 0
      },
      "method": "display_data"
     },
     "metadata": {},
     "output_type": "display_data"
    }
   ],
   "source": [
    "SELECT divison, AVG(annualsalary) AS average_salary        -- average salary of each divison greater than 150.000\n",
    "FROM salary2017                                  \n",
    "GROUP BY divison\n",
    "HAVING AVG(annualsalary) >= 150000\n",
    "ORDER BY average_salary DESC; "
   ]
  },
  {
   "cell_type": "markdown",
   "metadata": {},
   "source": [
    "Query on Multiple Tables"
   ]
  },
  {
   "cell_type": "code",
   "execution_count": 26,
   "metadata": {},
   "outputs": [
    {
     "data": {
      "application/vnd.jupyter.widget-view+json": {
       "model_id": "8c5cc895-dd46-482e-a1af-fe6bf4fa5883",
       "version_major": 2,
       "version_minor": 0
      },
      "method": "display_data"
     },
     "metadata": {},
     "output_type": "display_data"
    },
    {
     "data": {
      "application/vnd.jupyter.widget-view+json": {
       "model_id": "4329a32d-a317-43b2-87bd-a9ae80a63353",
       "version_major": 2,
       "version_minor": 0
      },
      "method": "display_data"
     },
     "metadata": {},
     "output_type": "display_data"
    }
   ],
   "source": [
    "SELECT COUNT(*) FROM salary2017;\n",
    "SELECT COUNT(*) FROM salary2018;"
   ]
  },
  {
   "cell_type": "code",
   "execution_count": 27,
   "metadata": {},
   "outputs": [],
   "source": [
    "-- SELECT * FROM salary2017, salary2018;     -- Selects from multiple tables, results all combinations,9378x10071 = 94.445.838 rows"
   ]
  },
  {
   "cell_type": "code",
   "execution_count": 28,
   "metadata": {},
   "outputs": [
    {
     "data": {
      "text/plain": [
       "9393"
      ]
     },
     "execution_count": 28,
     "metadata": {},
     "output_type": "execute_result"
    }
   ],
   "source": [
    "SELECT COUNT(*) FROM salary2017, salary2018    -- counts matching names from both tables \n",
    "WHERE salary2017.name = salary2018.name;"
   ]
  },
  {
   "cell_type": "code",
   "execution_count": 29,
   "metadata": {},
   "outputs": [
    {
     "data": {
      "application/vnd.jupyter.widget-view+json": {
       "model_id": "65eab86f-be49-4982-8bae-6bdf0fe2beff",
       "version_major": 2,
       "version_minor": 0
      },
      "method": "display_data"
     },
     "metadata": {},
     "output_type": "display_data"
    }
   ],
   "source": [
    "SELECT s7.name,\n",
    "s7.annualsalary AS annualsalary2017, \n",
    "s8.annualsalary AS annualsalary2018                             --change same names from different tables\n",
    "FROM salary2017 s7, salary2018 s8                               -- use alias to keep code clear\n",
    "WHERE s7.name = s8.name;"
   ]
  },
  {
   "cell_type": "raw",
   "metadata": {},
   "source": [
    "INNER JOIN : all matching values from left and right tables"
   ]
  },
  {
   "cell_type": "code",
   "execution_count": 30,
   "metadata": {},
   "outputs": [
    {
     "data": {
      "application/vnd.jupyter.widget-view+json": {
       "model_id": "a0077181-dabe-4f98-874e-eadac9aae5db",
       "version_major": 2,
       "version_minor": 0
      },
      "method": "display_data"
     },
     "metadata": {},
     "output_type": "display_data"
    }
   ],
   "source": [
    "SELECT s7.name,                                         -- INNER JOIN all matching values from left(s7) and right(s8) tables\n",
    "s7.annualsalary AS annualsalary2017,                    -- exactly same with above query\n",
    "s8.annualsalary AS annualsalary2018         \n",
    "FROM salary2017 s7                                      \n",
    "INNER JOIN salary2018 s8\n",
    "ON s7.name = s8.name;"
   ]
  },
  {
   "cell_type": "code",
   "execution_count": 31,
   "metadata": {},
   "outputs": [
    {
     "data": {
      "application/vnd.jupyter.widget-view+json": {
       "model_id": "a99c491f-0c81-4d83-ae3b-dcab688c06cb",
       "version_major": 2,
       "version_minor": 0
      },
      "method": "display_data"
     },
     "metadata": {},
     "output_type": "display_data"
    }
   ],
   "source": [
    "SELECT * FROM dep_code_names;"
   ]
  },
  {
   "cell_type": "code",
   "execution_count": 32,
   "metadata": {},
   "outputs": [
    {
     "data": {
      "application/vnd.jupyter.widget-view+json": {
       "model_id": "e20b3219-9b63-4355-a473-5545f1ade0cf",
       "version_major": 2,
       "version_minor": 0
      },
      "method": "display_data"
     },
     "metadata": {},
     "output_type": "display_data"
    }
   ],
   "source": [
    "SELECT s7.name,                                         --twice INNER JOIN, add deparment names\n",
    "s7.annualsalary AS annualsalary2017,                    \n",
    "s8.annualsalary AS annualsalary2018,\n",
    "s8.depcode, d.name AS departmentname   \n",
    "FROM salary2017 s7                                       \n",
    "INNER JOIN salary2018 s8 ON s7.name = s8.name\n",
    "INNER JOIN dep_code_names d ON s8.depcode = d.code;"
   ]
  },
  {
   "cell_type": "code",
   "execution_count": 33,
   "metadata": {},
   "outputs": [
    {
     "data": {
      "application/vnd.jupyter.widget-view+json": {
       "model_id": "eb152291-5cae-486f-bf5e-69f7b29f1653",
       "version_major": 2,
       "version_minor": 0
      },
      "method": "display_data"
     },
     "metadata": {},
     "output_type": "display_data"
    }
   ],
   "source": [
    "/*\n",
    "-- create a small table\n",
    "CREATE TABLE employee(\n",
    "    id int,\n",
    "    name varchar(40),\n",
    "    depCode char(4),\n",
    "    supervisor int\n",
    ");\n",
    "COPY employee FROM 'C:\\Users\\zormu\\Desktop\\sql tutorial\\employee.csv' DELIMITERS ',' CSV HEADER;\n",
    "*/\n",
    "SELECT * FROM employee;   -- this table keeps some employees and id of their supervisors"
   ]
  },
  {
   "cell_type": "code",
   "execution_count": 34,
   "metadata": {},
   "outputs": [
    {
     "data": {
      "application/vnd.jupyter.widget-view+json": {
       "model_id": "4c4fc59b-a2de-479a-8741-d8ac722f9ef5",
       "version_major": 2,
       "version_minor": 0
      },
      "method": "display_data"
     },
     "metadata": {},
     "output_type": "display_data"
    }
   ],
   "source": [
    "--SELF JOIN, joining a table to itself\n",
    "--use same table, but name as emp and sup to treate as 2 tables\n",
    "SELECT emp.*, sup.name as name_of_supervisor\n",
    "FROM employee emp        --employee table                                     \n",
    "INNER JOIN employee sup  --supervisor table\n",
    "ON emp.supervisor = sup.id;"
   ]
  },
  {
   "cell_type": "raw",
   "metadata": {},
   "source": [
    "OUTER JOIN : shows non-matching values also\n",
    "\tLEFT OUTER JOIN --> all entries from left table\n",
    "\tRIGHT OUTER JOIN --> all entries from right table\n",
    "\tFULL OUTER JOIN --> all entries from left and right tables"
   ]
  },
  {
   "cell_type": "code",
   "execution_count": 35,
   "metadata": {},
   "outputs": [
    {
     "data": {
      "application/vnd.jupyter.widget-view+json": {
       "model_id": "51e01cf5-ab45-4dce-9887-0885a7b8b76a",
       "version_major": 2,
       "version_minor": 0
      },
      "method": "display_data"
     },
     "metadata": {},
     "output_type": "display_data"
    }
   ],
   "source": [
    "SELECT s7.name,                                         \n",
    "s7.annualsalary AS annualsalary2017,                    \n",
    "s8.annualsalary AS annualsalary2018       \n",
    "FROM salary2017 s7                                       \n",
    "LEFT OUTER JOIN salary2018 s8\n",
    "ON s7.name = s8.name;"
   ]
  },
  {
   "cell_type": "code",
   "execution_count": 36,
   "metadata": {},
   "outputs": [
    {
     "data": {
      "application/vnd.jupyter.widget-view+json": {
       "model_id": "9587b6c9-9ca9-4ae6-b825-b33da538aaa0",
       "version_major": 2,
       "version_minor": 0
      },
      "method": "display_data"
     },
     "metadata": {},
     "output_type": "display_data"
    }
   ],
   "source": [
    "SELECT s7.name,                                         \n",
    "s7.annualsalary AS annualsalary2017,                    \n",
    "s8.annualsalary AS annualsalary2018         \n",
    "FROM salary2017 s7                                       \n",
    "RIGHT OUTER JOIN salary2018 s8\n",
    "ON s7.name = s8.name;"
   ]
  },
  {
   "cell_type": "code",
   "execution_count": 37,
   "metadata": {},
   "outputs": [
    {
     "data": {
      "application/vnd.jupyter.widget-view+json": {
       "model_id": "da29cc70-999c-4c42-8eda-c8a1ab37a342",
       "version_major": 2,
       "version_minor": 0
      },
      "method": "display_data"
     },
     "metadata": {},
     "output_type": "display_data"
    }
   ],
   "source": [
    "SELECT s7.name,                                         \n",
    "s7.annualsalary AS annualsalary2017,                    \n",
    "s8.annualsalary AS annualsalary2018         \n",
    "FROM salary2017 s7                                       \n",
    "FULL OUTER JOIN salary2018 s8\n",
    "ON s7.name = s8.name;"
   ]
  },
  {
   "cell_type": "raw",
   "metadata": {},
   "source": [
    "CROSS JOIN : all possible combinations : similar with SELECT * FROM salary2017, salary2018; "
   ]
  },
  {
   "cell_type": "code",
   "execution_count": 38,
   "metadata": {},
   "outputs": [],
   "source": [
    "/*\n",
    "SELECT s7.name, s7.annualsalary, s8.annualsalary         \n",
    "FROM salary2017 s7                                       \n",
    "CROSS JOIN salary2018 s8;\n",
    "*/"
   ]
  },
  {
   "cell_type": "code",
   "execution_count": 39,
   "metadata": {},
   "outputs": [
    {
     "data": {
      "application/vnd.jupyter.widget-view+json": {
       "model_id": "213fb8b4-069f-4aa1-a6fb-1325a1742363",
       "version_major": 2,
       "version_minor": 0
      },
      "method": "display_data"
     },
     "metadata": {},
     "output_type": "display_data"
    }
   ],
   "source": [
    "-- UNION of tables: columns order and types must be same\n",
    "(SELECT * FROM salary2018 WHERE annualsalary > 220000)\n",
    "UNION\n",
    "(SELECT * FROM salary2018 WHERE annualsalary < 16000);"
   ]
  },
  {
   "cell_type": "code",
   "execution_count": 40,
   "metadata": {},
   "outputs": [
    {
     "data": {
      "application/vnd.jupyter.widget-view+json": {
       "model_id": "d11b19d8-046c-45da-be86-f6020fbc3560",
       "version_major": 2,
       "version_minor": 0
      },
      "method": "display_data"
     },
     "metadata": {},
     "output_type": "display_data"
    }
   ],
   "source": [
    "(SELECT * FROM salary2018 WHERE annualsalary > 220000)\n",
    "UNION                                                     -- eliminates repeating entries\n",
    "(SELECT * FROM salary2018 WHERE annualsalary > 220000);"
   ]
  },
  {
   "cell_type": "code",
   "execution_count": 41,
   "metadata": {},
   "outputs": [
    {
     "data": {
      "application/vnd.jupyter.widget-view+json": {
       "model_id": "7ff5d25d-4e7d-43ab-973e-3239291251df",
       "version_major": 2,
       "version_minor": 0
      },
      "method": "display_data"
     },
     "metadata": {},
     "output_type": "display_data"
    }
   ],
   "source": [
    "(SELECT * FROM salary2018 WHERE annualsalary > 220000)\n",
    "UNION ALL                                               -- allows repeating entries\n",
    "(SELECT * FROM salary2018 WHERE annualsalary > 220000);"
   ]
  },
  {
   "cell_type": "code",
   "execution_count": 42,
   "metadata": {},
   "outputs": [
    {
     "data": {
      "application/vnd.jupyter.widget-view+json": {
       "model_id": "315f4851-fbfc-4579-9a85-0965271b0680",
       "version_major": 2,
       "version_minor": 0
      },
      "method": "display_data"
     },
     "metadata": {},
     "output_type": "display_data"
    }
   ],
   "source": [
    "-- INTERSECT tables: columns order and types must be same\n",
    "(SELECT name FROM salary2017 WHERE annualsalary > 220000)\n",
    "INTERSECT\n",
    "(SELECT name FROM salary2018 WHERE annualsalary > 220000);"
   ]
  },
  {
   "cell_type": "code",
   "execution_count": null,
   "metadata": {},
   "outputs": [],
   "source": []
  }
 ],
 "metadata": {
  "kernelspec": {
   "display_name": "SQL",
   "language": "SQL",
   "name": "sql"
  },
  "language_info": {
   "codemirror_mode": "sql",
   "file_extension": ".sql",
   "mimetype": "",
   "name": "SQL",
   "nbconverter_exporter": "",
   "version": ""
  }
 },
 "nbformat": 4,
 "nbformat_minor": 2
}
