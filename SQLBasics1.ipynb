{
 "cells": [
  {
   "cell_type": "markdown",
   "metadata": {},
   "source": [
    "SQL Tutorial"
   ]
  },
  {
   "cell_type": "raw",
   "metadata": {},
   "source": [
    "This notebook is prepared to summarize basic SQL commands. \n",
    "SQL kernel created by BeakerX and PostgreSQL database are used in this notebook. "
   ]
  },
  {
   "cell_type": "markdown",
   "metadata": {},
   "source": [
    "Connect database:\n",
    "Database is on local machine and called Deneme. You need to specify your own user name and password."
   ]
  },
  {
   "cell_type": "code",
   "execution_count": 1,
   "metadata": {},
   "outputs": [],
   "source": [
    "%defaultDatasource jdbc:postgresql://localhost/Deneme?user=??????&password=?????"
   ]
  },
  {
   "cell_type": "code",
   "execution_count": 110,
   "metadata": {},
   "outputs": [],
   "source": [
    "-- drop table salary2017;"
   ]
  },
  {
   "cell_type": "code",
   "execution_count": null,
   "metadata": {},
   "outputs": [],
   "source": [
    "-- create a table called salary2017 to store data\n",
    "-- just run the code to execute, we will cover details later\n",
    "CREATE TABLE salary2017(\n",
    "    name varchar(40),\n",
    "    gender char(1),\n",
    "    annualSalary float,\n",
    "    grossPayReceived2017 float,\n",
    "    overtimePay2017 float,\n",
    "    depCode char(4),\n",
    "    divison varchar(100),\n",
    "    empPositionTitle varchar(100),\n",
    "    positionUnderFilled varchar(100),\n",
    "    dateFirstHired date\n",
    ");\n",
    "-- dataset from https://data.montgomerycountymd.gov/Human-Resources/Employee-Salaries-2017\n",
    "-- some modifications are performed on file in order to copy into our table\n",
    "COPY salary2017 FROM 'C:\\Users\\zormu\\Desktop\\sql tutorial\\2017Salary.csv' DELIMITERS ',' CSV HEADER;"
   ]
  },
  {
   "cell_type": "code",
   "execution_count": null,
   "metadata": {},
   "outputs": [],
   "source": [
    "-- create a table called salary2017 to store data\n",
    "-- just run the code to execute, we will cover details later\n",
    "CREATE TABLE salary2018(\n",
    "    name varchar(40),\n",
    "    gender char(1),\n",
    "    annualSalary float,\n",
    "    grossPayReceived2017 float,\n",
    "    overtimePay2017 float,\n",
    "    depCode char(4),\n",
    "    divison varchar(100),\n",
    "    empPositionTitle varchar(100),\n",
    "    positionUnderFilled varchar(100),\n",
    "    dateFirstHired date\n",
    ");\n",
    "-- dataset from https://data.montgomerycountymd.gov/Human-Resources/Employee-Salaries-2018/kdqy-4wzv\n",
    "-- some modifications are performed on file in order to copy into our table\n",
    "COPY salary2018 FROM 'C:\\Users\\zormu\\Desktop\\sql tutorial\\2018Salary.csv' DELIMITERS ',' CSV HEADER;"
   ]
  },
  {
   "cell_type": "code",
   "execution_count": null,
   "metadata": {},
   "outputs": [],
   "source": [
    "-- Create Look-up table for department code and corresponding names\n",
    "/*\n",
    "CREATE TABLE depnames(\n",
    "    code char(3),\n",
    "    name varchar(100)\n",
    ");\n",
    "COPY depnames FROM 'C:\\Users\\zormu\\Desktop\\sql tutorial\\depNames.csv' DELIMITERS ',' CSV HEADER;\n",
    "CREATE TABLE dep_code_names\n",
    "  AS (SELECT DISTINCT code,name FROM depnames);\n",
    "*/"
   ]
  },
  {
   "cell_type": "markdown",
   "metadata": {},
   "source": [
    "BASIC QUERIES"
   ]
  },
  {
   "cell_type": "code",
   "execution_count": 2,
   "metadata": {},
   "outputs": [
    {
     "data": {
      "application/vnd.jupyter.widget-view+json": {
       "model_id": "75b1c8f3-b0b7-4062-b514-ecac1d80f293",
       "version_major": 2,
       "version_minor": 0
      },
      "method": "display_data"
     },
     "metadata": {},
     "output_type": "display_data"
    }
   ],
   "source": [
    "SELECT * FROM salary2017;               --Select all data from table"
   ]
  },
  {
   "cell_type": "code",
   "execution_count": 3,
   "metadata": {},
   "outputs": [
    {
     "data": {
      "application/vnd.jupyter.widget-view+json": {
       "model_id": "ffad7a85-1d69-48be-9ceb-7a96d80e0cd8",
       "version_major": 2,
       "version_minor": 0
      },
      "method": "display_data"
     },
     "metadata": {},
     "output_type": "display_data"
    }
   ],
   "source": [
    "SELECT * FROM salary2017\n",
    "AS A LIMIT 5;                      -- to keep notebook shorter, display the outcomes up to 5 entries"
   ]
  },
  {
   "cell_type": "code",
   "execution_count": 4,
   "metadata": {},
   "outputs": [
    {
     "data": {
      "application/vnd.jupyter.widget-view+json": {
       "model_id": "082e6a36-ee8e-4806-b5e6-8711c918d7a7",
       "version_major": 2,
       "version_minor": 0
      },
      "method": "display_data"
     },
     "metadata": {},
     "output_type": "display_data"
    }
   ],
   "source": [
    "SELECT name,depcode,annualsalary        --Select some columns from table\n",
    "FROM salary2017\n",
    "AS A LIMIT 5;    "
   ]
  },
  {
   "cell_type": "code",
   "execution_count": 5,
   "metadata": {},
   "outputs": [
    {
     "data": {
      "application/vnd.jupyter.widget-view+json": {
       "model_id": "133ada9a-b31a-41fc-9960-5e718bb168d9",
       "version_major": 2,
       "version_minor": 0
      },
      "method": "display_data"
     },
     "metadata": {},
     "output_type": "display_data"
    }
   ],
   "source": [
    "SELECT * FROM                                      --you may select all data from a table created by another SELECT statement \n",
    "(SELECT name,depcode,annualsalary FROM salary2017) --this part creates a table as above\n",
    "AS A LIMIT 5;"
   ]
  },
  {
   "cell_type": "code",
   "execution_count": 6,
   "metadata": {},
   "outputs": [
    {
     "data": {
      "application/vnd.jupyter.widget-view+json": {
       "model_id": "013c5269-169e-409b-bf8d-47232c2f48ef",
       "version_major": 2,
       "version_minor": 0
      },
      "method": "display_data"
     },
     "metadata": {},
     "output_type": "display_data"
    }
   ],
   "source": [
    "SELECT name,depcode,annualsalary        --WHERE filters data\n",
    "FROM salary2017                         --Operators: =  <  >  <=  >=  <>\n",
    "WHERE depcode = 'POL';"
   ]
  },
  {
   "cell_type": "code",
   "execution_count": 7,
   "metadata": {},
   "outputs": [
    {
     "data": {
      "application/vnd.jupyter.widget-view+json": {
       "model_id": "82bd4b7b-3c96-40b2-8ce0-efa397410e9a",
       "version_major": 2,
       "version_minor": 0
      },
      "method": "display_data"
     },
     "metadata": {},
     "output_type": "display_data"
    }
   ],
   "source": [
    "SELECT name,depcode,annualsalary                  --multiple conditions\n",
    "FROM salary2017                                   --Operators: AND OR NOT\n",
    "WHERE depcode = 'POL' AND annualsalary >= 50000;"
   ]
  },
  {
   "cell_type": "code",
   "execution_count": 8,
   "metadata": {},
   "outputs": [
    {
     "data": {
      "application/vnd.jupyter.widget-view+json": {
       "model_id": "cd7bc8d8-c454-4548-a1f6-d409d0d0b28c",
       "version_major": 2,
       "version_minor": 0
      },
      "method": "display_data"
     },
     "metadata": {},
     "output_type": "display_data"
    }
   ],
   "source": [
    "SELECT name,gender,datefirsthired        -- names starting with Ber\n",
    "FROM salary2017                          -- % stands for multiple any characters\n",
    "WHERE name LIKE 'Ber%';                  -- _ stands for single any character"
   ]
  },
  {
   "cell_type": "code",
   "execution_count": 9,
   "metadata": {},
   "outputs": [
    {
     "data": {
      "application/vnd.jupyter.widget-view+json": {
       "model_id": "19016da2-ca37-4672-955a-a8464aaa3703",
       "version_major": 2,
       "version_minor": 0
      },
      "method": "display_data"
     },
     "metadata": {},
     "output_type": "display_data"
    }
   ],
   "source": [
    "SELECT name,gender,datefirsthired         -- BETWEEN is for numerical values\n",
    "FROM salary2017                          \n",
    "WHERE annualsalary BETWEEN 50000 AND 70000;                  "
   ]
  },
  {
   "cell_type": "code",
   "execution_count": 10,
   "metadata": {},
   "outputs": [
    {
     "data": {
      "application/vnd.jupyter.widget-view+json": {
       "model_id": "26466895-7af8-4496-aedb-c4db0fdadee4",
       "version_major": 2,
       "version_minor": 0
      },
      "method": "display_data"
     },
     "metadata": {},
     "output_type": "display_data"
    }
   ],
   "source": [
    "SELECT name,gender,annualsalary           -- IS NULL selects empty cells\n",
    "FROM salary2017                           -- IS NOT NULL selects non-emoty cells\n",
    "WHERE positionunderfilled IS NOT NULL;  "
   ]
  },
  {
   "cell_type": "code",
   "execution_count": 11,
   "metadata": {},
   "outputs": [
    {
     "data": {
      "application/vnd.jupyter.widget-view+json": {
       "model_id": "9b48066c-d95b-47cf-a4ba-013a18954388",
       "version_major": 2,
       "version_minor": 0
      },
      "method": "display_data"
     },
     "metadata": {},
     "output_type": "display_data"
    }
   ],
   "source": [
    "SELECT DISTINCT depcode FROM salary2017;      -- detects distinct values fom given column"
   ]
  },
  {
   "cell_type": "code",
   "execution_count": 12,
   "metadata": {},
   "outputs": [
    {
     "data": {
      "application/vnd.jupyter.widget-view+json": {
       "model_id": "1e3d5884-5438-4bf5-836d-5bd8f76bfc88",
       "version_major": 2,
       "version_minor": 0
      },
      "method": "display_data"
     },
     "metadata": {},
     "output_type": "display_data"
    }
   ],
   "source": [
    "SELECT name,annualsalary,depcode        \n",
    "FROM salary2017                          \n",
    "WHERE depcode IN ('POL','HHS','COR');    -- equivalent to WHERE depcode='POL' OR depcode='HHS' OR depcode='COR';"
   ]
  },
  {
   "cell_type": "code",
   "execution_count": 13,
   "metadata": {},
   "outputs": [
    {
     "data": {
      "application/vnd.jupyter.widget-view+json": {
       "model_id": "92ad5c47-0070-4d0e-9e43-73bdf390d5df",
       "version_major": 2,
       "version_minor": 0
      },
      "method": "display_data"
     },
     "metadata": {},
     "output_type": "display_data"
    }
   ],
   "source": [
    "SELECT DISTINCT(depcode) FROM salary2017 -- use this resul as a list for WHERE IN in the following query\n",
    "WHERE annualsalary > 220000;"
   ]
  },
  {
   "cell_type": "code",
   "execution_count": 14,
   "metadata": {},
   "outputs": [
    {
     "data": {
      "application/vnd.jupyter.widget-view+json": {
       "model_id": "86361c46-6804-4123-ba40-bcded084f16f",
       "version_major": 2,
       "version_minor": 0
      },
      "method": "display_data"
     },
     "metadata": {},
     "output_type": "display_data"
    }
   ],
   "source": [
    "SELECT name,annualsalary,depcode        \n",
    "FROM salary2017                          \n",
    "WHERE depcode IN(                  -- you may write another select in paranthesis to get values\n",
    "SELECT DISTINCT(depcode) FROM salary2017 \n",
    "WHERE annualsalary > 220000\n",
    ");  "
   ]
  },
  {
   "cell_type": "code",
   "execution_count": 15,
   "metadata": {},
   "outputs": [
    {
     "data": {
      "application/vnd.jupyter.widget-view+json": {
       "model_id": "18a3e30f-e194-4547-a683-3f73f2b31aed",
       "version_major": 2,
       "version_minor": 0
      },
      "method": "display_data"
     },
     "metadata": {},
     "output_type": "display_data"
    }
   ],
   "source": [
    "SELECT name,gender,annualsalary,depcode     -- order by depcode descending and then annualsalary ascending\n",
    "FROM salary2017                          \n",
    "ORDER BY depcode DESC,annualsalary;  "
   ]
  },
  {
   "cell_type": "code",
   "execution_count": 16,
   "metadata": {},
   "outputs": [
    {
     "data": {
      "application/vnd.jupyter.widget-view+json": {
       "model_id": "43c4c820-2aca-41cd-9c33-4f45c4af4695",
       "version_major": 2,
       "version_minor": 0
      },
      "method": "display_data"
     },
     "metadata": {},
     "output_type": "display_data"
    }
   ],
   "source": [
    "SELECT name,gender,annualsalary,depcode      -- first filter and then order\n",
    "FROM salary2017\n",
    "WHERE gender = 'F'\n",
    "ORDER BY annualsalary DESC;  "
   ]
  },
  {
   "cell_type": "markdown",
   "metadata": {},
   "source": [
    "Aggregate Functions: COUNT, SUM, AVG, MAX, MIN"
   ]
  },
  {
   "cell_type": "code",
   "execution_count": 17,
   "metadata": {},
   "outputs": [
    {
     "data": {
      "text/plain": [
       "9398"
      ]
     },
     "execution_count": 17,
     "metadata": {},
     "output_type": "execute_result"
    }
   ],
   "source": [
    "SELECT COUNT(*) FROM salary2017;              -- counts number of entries in table"
   ]
  },
  {
   "cell_type": "code",
   "execution_count": 18,
   "metadata": {},
   "outputs": [
    {
     "data": {
      "text/plain": [
       "9398"
      ]
     },
     "execution_count": 18,
     "metadata": {},
     "output_type": "execute_result"
    }
   ],
   "source": [
    "SELECT COUNT(*) AS num_of_entries             -- AS renames output column, but not observable here\n",
    "FROM salary2017;       "
   ]
  },
  {
   "cell_type": "code",
   "execution_count": 19,
   "metadata": {},
   "outputs": [
    {
     "data": {
      "text/plain": [
       "20"
      ]
     },
     "execution_count": 19,
     "metadata": {},
     "output_type": "execute_result"
    }
   ],
   "source": [
    "SELECT COUNT(*) AS num_of_highSalary           -- number of high salaries\n",
    "FROM salary2017\n",
    "WHERE annualsalary >= 200000;       "
   ]
  },
  {
   "cell_type": "code",
   "execution_count": 20,
   "metadata": {},
   "outputs": [
    {
     "data": {
      "application/vnd.jupyter.widget-view+json": {
       "model_id": "187a278c-8826-4908-bc63-601e860a131a",
       "version_major": 2,
       "version_minor": 0
      },
      "method": "display_data"
     },
     "metadata": {},
     "output_type": "display_data"
    }
   ],
   "source": [
    "SELECT \n",
    "MAX(annualsalary) AS max_salary,        \n",
    "MIN (annualsalary) AS min_salary,\n",
    "AVG (annualsalary) AS average_salary,\n",
    "SUM (annualsalary) AS total_salary,\n",
    "MIN(dateFirstHired) AS oldest_employee,\n",
    "MAX(dateFirstHired) AS newest_employee\n",
    "FROM salary2017;       "
   ]
  },
  {
   "cell_type": "code",
   "execution_count": 21,
   "metadata": {},
   "outputs": [
    {
     "data": {
      "application/vnd.jupyter.widget-view+json": {
       "model_id": "83d408f1-1ca1-4be0-900b-7a0d2c4237fa",
       "version_major": 2,
       "version_minor": 0
      },
      "method": "display_data"
     },
     "metadata": {},
     "output_type": "display_data"
    }
   ],
   "source": [
    "SELECT divison FROM salary2017                  -- groups data based on disivion, \n",
    "GROUP BY divison;                               -- in this case it is identical to DISTINCT"
   ]
  },
  {
   "cell_type": "code",
   "execution_count": 22,
   "metadata": {},
   "outputs": [
    {
     "data": {
      "application/vnd.jupyter.widget-view+json": {
       "model_id": "1241a257-3472-485e-897f-3d84ee81ba75",
       "version_major": 2,
       "version_minor": 0
      },
      "method": "display_data"
     },
     "metadata": {},
     "output_type": "display_data"
    }
   ],
   "source": [
    "SELECT divison, COUNT(*) AS num_of_employee         -- counts total number of employees in each divison \n",
    "FROM salary2017                                  -- and list in descending order \n",
    "GROUP BY divison\n",
    "ORDER BY num_of_employee DESC; "
   ]
  },
  {
   "cell_type": "code",
   "execution_count": 23,
   "metadata": {},
   "outputs": [
    {
     "data": {
      "application/vnd.jupyter.widget-view+json": {
       "model_id": "245adb6e-63d5-4ab4-ac64-652f5b955322",
       "version_major": 2,
       "version_minor": 0
      },
      "method": "display_data"
     },
     "metadata": {},
     "output_type": "display_data"
    }
   ],
   "source": [
    "SELECT divison, COUNT(*) AS num_of_employee         -- restriction on grouped data is conducted with HAVING \n",
    "FROM salary2017                                  \n",
    "GROUP BY divison\n",
    "HAVING divison LIKE 'M%'; "
   ]
  },
  {
   "cell_type": "code",
   "execution_count": 24,
   "metadata": {},
   "outputs": [
    {
     "data": {
      "application/vnd.jupyter.widget-view+json": {
       "model_id": "0d8a7e8d-4008-44e6-8cc4-12e0bc5afd8b",
       "version_major": 2,
       "version_minor": 0
      },
      "method": "display_data"
     },
     "metadata": {},
     "output_type": "display_data"
    }
   ],
   "source": [
    "SELECT divison, COUNT(*) AS num_of_employee        \n",
    "FROM salary2017                                  \n",
    "GROUP BY divison\n",
    "HAVING COUNT(*) >= 70\n",
    "ORDER BY num_of_employee DESC; "
   ]
  },
  {
   "cell_type": "code",
   "execution_count": 25,
   "metadata": {},
   "outputs": [
    {
     "data": {
      "application/vnd.jupyter.widget-view+json": {
       "model_id": "c0dd8c56-eb08-4814-9b7f-fc3070e278b6",
       "version_major": 2,
       "version_minor": 0
      },
      "method": "display_data"
     },
     "metadata": {},
     "output_type": "display_data"
    }
   ],
   "source": [
    "SELECT divison, AVG(annualsalary) AS average_salary        -- average salary of each divison greater than 150.000\n",
    "FROM salary2017                                  \n",
    "GROUP BY divison\n",
    "HAVING AVG(annualsalary) >= 150000\n",
    "ORDER BY average_salary DESC; "
   ]
  },
  {
   "cell_type": "markdown",
   "metadata": {},
   "source": [
    "Query on Multiple Tables"
   ]
  },
  {
   "cell_type": "code",
   "execution_count": 26,
   "metadata": {},
   "outputs": [
    {
     "data": {
      "application/vnd.jupyter.widget-view+json": {
       "model_id": "c3f066fb-1dd2-40be-8696-07a555ca96b8",
       "version_major": 2,
       "version_minor": 0
      },
      "method": "display_data"
     },
     "metadata": {},
     "output_type": "display_data"
    },
    {
     "data": {
      "application/vnd.jupyter.widget-view+json": {
       "model_id": "ec76904e-e482-460c-8478-a056fc8efe02",
       "version_major": 2,
       "version_minor": 0
      },
      "method": "display_data"
     },
     "metadata": {},
     "output_type": "display_data"
    }
   ],
   "source": [
    "SELECT COUNT(*) FROM salary2017;\n",
    "SELECT COUNT(*) FROM salary2018;"
   ]
  },
  {
   "cell_type": "code",
   "execution_count": 27,
   "metadata": {},
   "outputs": [],
   "source": [
    "-- SELECT * FROM salary2017, salary2018;     -- Selects from multiple tables, results all combinations,9378x10071 = 94.445.838 rows"
   ]
  },
  {
   "cell_type": "code",
   "execution_count": 28,
   "metadata": {},
   "outputs": [
    {
     "data": {
      "text/plain": [
       "9393"
      ]
     },
     "execution_count": 28,
     "metadata": {},
     "output_type": "execute_result"
    }
   ],
   "source": [
    "SELECT COUNT(*) FROM salary2017, salary2018    -- counts matching names from both tables \n",
    "WHERE salary2017.name = salary2018.name;"
   ]
  },
  {
   "cell_type": "code",
   "execution_count": 29,
   "metadata": {},
   "outputs": [
    {
     "data": {
      "application/vnd.jupyter.widget-view+json": {
       "model_id": "069cf5ba-7002-4264-9f4f-0489a02f24ef",
       "version_major": 2,
       "version_minor": 0
      },
      "method": "display_data"
     },
     "metadata": {},
     "output_type": "display_data"
    }
   ],
   "source": [
    "SELECT s7.name,\n",
    "s7.annualsalary AS annualsalary2017, \n",
    "s8.annualsalary AS annualsalary2018                             --change same names from different tables\n",
    "FROM salary2017 s7, salary2018 s8                               -- use alias to keep code clear\n",
    "WHERE s7.name = s8.name;"
   ]
  },
  {
   "cell_type": "raw",
   "metadata": {},
   "source": [
    "INNER JOIN : all matching values from left and right tables"
   ]
  },
  {
   "cell_type": "code",
   "execution_count": 30,
   "metadata": {},
   "outputs": [
    {
     "data": {
      "application/vnd.jupyter.widget-view+json": {
       "model_id": "3fd8d1cd-f9ac-4aa7-a300-a474540e82dd",
       "version_major": 2,
       "version_minor": 0
      },
      "method": "display_data"
     },
     "metadata": {},
     "output_type": "display_data"
    }
   ],
   "source": [
    "SELECT s7.name,                                         -- INNER JOIN all matching values from left(s7) and right(s8) tables\n",
    "s7.annualsalary AS annualsalary2017,                    -- exactly same with above query\n",
    "s8.annualsalary AS annualsalary2018         \n",
    "FROM salary2017 s7                                      \n",
    "INNER JOIN salary2018 s8\n",
    "ON s7.name = s8.name;"
   ]
  },
  {
   "cell_type": "code",
   "execution_count": 31,
   "metadata": {},
   "outputs": [
    {
     "data": {
      "application/vnd.jupyter.widget-view+json": {
       "model_id": "aa78b840-562d-4018-aa65-6f25a806491d",
       "version_major": 2,
       "version_minor": 0
      },
      "method": "display_data"
     },
     "metadata": {},
     "output_type": "display_data"
    }
   ],
   "source": [
    "SELECT * FROM dep_code_names;"
   ]
  },
  {
   "cell_type": "code",
   "execution_count": 32,
   "metadata": {},
   "outputs": [
    {
     "data": {
      "application/vnd.jupyter.widget-view+json": {
       "model_id": "c7f24d83-a836-429d-9332-b124c7ff5ca3",
       "version_major": 2,
       "version_minor": 0
      },
      "method": "display_data"
     },
     "metadata": {},
     "output_type": "display_data"
    }
   ],
   "source": [
    "SELECT s7.name,                                         --twice INNER JOIN, add deparment names\n",
    "s7.annualsalary AS annualsalary2017,                    \n",
    "s8.annualsalary AS annualsalary2018,\n",
    "s8.depcode, d.name AS departmentname   \n",
    "FROM salary2017 s7                                       \n",
    "INNER JOIN salary2018 s8 ON s7.name = s8.name\n",
    "INNER JOIN dep_code_names d ON s8.depcode = d.code;"
   ]
  },
  {
   "cell_type": "code",
   "execution_count": 33,
   "metadata": {},
   "outputs": [
    {
     "data": {
      "application/vnd.jupyter.widget-view+json": {
       "model_id": "6945158e-bdf7-415d-aeb8-50191b04b4ba",
       "version_major": 2,
       "version_minor": 0
      },
      "method": "display_data"
     },
     "metadata": {},
     "output_type": "display_data"
    }
   ],
   "source": [
    "/*\n",
    "-- create a small table\n",
    "CREATE TABLE employee(\n",
    "    id int,\n",
    "    name varchar(40),\n",
    "    depCode char(4),\n",
    "    supervisor int\n",
    ");\n",
    "COPY employee FROM 'C:\\Users\\zormu\\Desktop\\sql tutorial\\employee.csv' DELIMITERS ',' CSV HEADER;\n",
    "*/\n",
    "SELECT * FROM employee;   -- this table keeps some employees and id of their supervisors"
   ]
  },
  {
   "cell_type": "code",
   "execution_count": 34,
   "metadata": {},
   "outputs": [
    {
     "data": {
      "application/vnd.jupyter.widget-view+json": {
       "model_id": "71cd4408-c47a-4652-80eb-7059399476e1",
       "version_major": 2,
       "version_minor": 0
      },
      "method": "display_data"
     },
     "metadata": {},
     "output_type": "display_data"
    }
   ],
   "source": [
    "--SELF JOIN, joining a table to itself\n",
    "--use same table, but name as emp and sup to treate as 2 tables\n",
    "SELECT emp.*, sup.name as name_of_supervisor\n",
    "FROM employee emp        --employee table                                     \n",
    "INNER JOIN employee sup  --supervisor table\n",
    "ON emp.supervisor = sup.id;"
   ]
  },
  {
   "cell_type": "raw",
   "metadata": {},
   "source": [
    "OUTER JOIN : shows non-matching values also\n",
    "\tLEFT OUTER JOIN --> all entries from left table\n",
    "\tRIGHT OUTER JOIN --> all entries from right table\n",
    "\tFULL OUTER JOIN --> all entries from left and right tables"
   ]
  },
  {
   "cell_type": "code",
   "execution_count": 35,
   "metadata": {},
   "outputs": [
    {
     "data": {
      "application/vnd.jupyter.widget-view+json": {
       "model_id": "adbcf60c-8fca-4710-a80e-1d503a9b8742",
       "version_major": 2,
       "version_minor": 0
      },
      "method": "display_data"
     },
     "metadata": {},
     "output_type": "display_data"
    }
   ],
   "source": [
    "SELECT s7.name,                                         \n",
    "s7.annualsalary AS annualsalary2017,                    \n",
    "s8.annualsalary AS annualsalary2018       \n",
    "FROM salary2017 s7                                       \n",
    "LEFT OUTER JOIN salary2018 s8\n",
    "ON s7.name = s8.name;"
   ]
  },
  {
   "cell_type": "code",
   "execution_count": 36,
   "metadata": {},
   "outputs": [
    {
     "data": {
      "application/vnd.jupyter.widget-view+json": {
       "model_id": "0cd40957-99dd-49ee-b121-bb6479f7dcc3",
       "version_major": 2,
       "version_minor": 0
      },
      "method": "display_data"
     },
     "metadata": {},
     "output_type": "display_data"
    }
   ],
   "source": [
    "SELECT s7.name,                                         \n",
    "s7.annualsalary AS annualsalary2017,                    \n",
    "s8.annualsalary AS annualsalary2018         \n",
    "FROM salary2017 s7                                       \n",
    "RIGHT OUTER JOIN salary2018 s8\n",
    "ON s7.name = s8.name;"
   ]
  },
  {
   "cell_type": "code",
   "execution_count": 37,
   "metadata": {},
   "outputs": [
    {
     "data": {
      "application/vnd.jupyter.widget-view+json": {
       "model_id": "25091197-0e75-4502-8df8-3221ac1c1998",
       "version_major": 2,
       "version_minor": 0
      },
      "method": "display_data"
     },
     "metadata": {},
     "output_type": "display_data"
    }
   ],
   "source": [
    "SELECT s7.name,                                         \n",
    "s7.annualsalary AS annualsalary2017,                    \n",
    "s8.annualsalary AS annualsalary2018         \n",
    "FROM salary2017 s7                                       \n",
    "FULL OUTER JOIN salary2018 s8\n",
    "ON s7.name = s8.name;"
   ]
  },
  {
   "cell_type": "raw",
   "metadata": {},
   "source": [
    "CROSS JOIN : all possible combinations : similar with SELECT * FROM salary2017, salary2018; "
   ]
  },
  {
   "cell_type": "code",
   "execution_count": 38,
   "metadata": {},
   "outputs": [],
   "source": [
    "/*\n",
    "SELECT s7.name, s7.annualsalary, s8.annualsalary         \n",
    "FROM salary2017 s7                                       \n",
    "CROSS JOIN salary2018 s8;\n",
    "*/"
   ]
  },
  {
   "cell_type": "code",
   "execution_count": 39,
   "metadata": {},
   "outputs": [
    {
     "data": {
      "application/vnd.jupyter.widget-view+json": {
       "model_id": "abc7eefc-e18a-4d00-8c1d-a065453742d5",
       "version_major": 2,
       "version_minor": 0
      },
      "method": "display_data"
     },
     "metadata": {},
     "output_type": "display_data"
    }
   ],
   "source": [
    "-- UNION of tables: columns order and types must be same\n",
    "(SELECT * FROM salary2018 WHERE annualsalary > 220000)\n",
    "UNION\n",
    "(SELECT * FROM salary2018 WHERE annualsalary < 16000);"
   ]
  },
  {
   "cell_type": "code",
   "execution_count": 40,
   "metadata": {},
   "outputs": [
    {
     "data": {
      "application/vnd.jupyter.widget-view+json": {
       "model_id": "582cbfc8-5cb4-4e03-83bb-d3a3863f6a69",
       "version_major": 2,
       "version_minor": 0
      },
      "method": "display_data"
     },
     "metadata": {},
     "output_type": "display_data"
    }
   ],
   "source": [
    "(SELECT * FROM salary2018 WHERE annualsalary > 220000)\n",
    "UNION                                                     -- eliminates repeating entries\n",
    "(SELECT * FROM salary2018 WHERE annualsalary > 220000);"
   ]
  },
  {
   "cell_type": "code",
   "execution_count": 41,
   "metadata": {},
   "outputs": [
    {
     "data": {
      "application/vnd.jupyter.widget-view+json": {
       "model_id": "a4083c29-f0a4-4230-8b34-8d7951c50241",
       "version_major": 2,
       "version_minor": 0
      },
      "method": "display_data"
     },
     "metadata": {},
     "output_type": "display_data"
    }
   ],
   "source": [
    "(SELECT * FROM salary2018 WHERE annualsalary > 220000)\n",
    "UNION ALL                                               -- allows repeating entries\n",
    "(SELECT * FROM salary2018 WHERE annualsalary > 220000);"
   ]
  },
  {
   "cell_type": "code",
   "execution_count": 42,
   "metadata": {},
   "outputs": [
    {
     "data": {
      "application/vnd.jupyter.widget-view+json": {
       "model_id": "d8408049-8d8d-4fec-b901-c1f3924f39e5",
       "version_major": 2,
       "version_minor": 0
      },
      "method": "display_data"
     },
     "metadata": {},
     "output_type": "display_data"
    }
   ],
   "source": [
    "-- INTERSECT tables: columns order and types must be same\n",
    "(SELECT name FROM salary2017 WHERE annualsalary > 220000)\n",
    "INTERSECT\n",
    "(SELECT name FROM salary2018 WHERE annualsalary > 220000);"
   ]
  },
  {
   "cell_type": "code",
   "execution_count": null,
   "metadata": {},
   "outputs": [],
   "source": []
  }
 ],
 "metadata": {
  "kernelspec": {
   "display_name": "SQL",
   "language": "SQL",
   "name": "sql"
  },
  "language_info": {
   "codemirror_mode": "sql",
   "file_extension": ".sql",
   "mimetype": "",
   "name": "SQL",
   "nbconverter_exporter": "",
   "version": ""
  }
 },
 "nbformat": 4,
 "nbformat_minor": 2
}
